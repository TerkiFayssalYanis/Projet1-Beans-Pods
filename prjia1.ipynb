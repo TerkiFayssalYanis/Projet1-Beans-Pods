{
 "cells": [
  {
   "cell_type": "markdown",
   "id": "b9c5834d",
   "metadata": {},
   "source": [
    "# Story Telling: Beanks & Pods"
   ]
  },
  {
   "cell_type": "code",
   "execution_count": 1,
   "id": "dab98d76",
   "metadata": {},
   "outputs": [
    {
     "ename": "ModuleNotFoundError",
     "evalue": "No module named 'pandas'",
     "output_type": "error",
     "traceback": [
      "\u001b[31m---------------------------------------------------------------------------\u001b[39m",
      "\u001b[31mModuleNotFoundError\u001b[39m                       Traceback (most recent call last)",
      "\u001b[36mCell\u001b[39m\u001b[36m \u001b[39m\u001b[32mIn[1]\u001b[39m\u001b[32m, line 3\u001b[39m\n\u001b[32m      1\u001b[39m \u001b[38;5;28;01mimport\u001b[39;00m\u001b[38;5;250m \u001b[39m\u001b[34;01mwarnings\u001b[39;00m\n\u001b[32m      2\u001b[39m warnings.filterwarnings(\u001b[33m'\u001b[39m\u001b[33mignore\u001b[39m\u001b[33m'\u001b[39m)\n\u001b[32m----> \u001b[39m\u001b[32m3\u001b[39m \u001b[38;5;28;01mfrom\u001b[39;00m\u001b[38;5;250m \u001b[39m\u001b[34;01mpandas\u001b[39;00m\u001b[38;5;250m \u001b[39m\u001b[38;5;28;01mimport\u001b[39;00m read_csv\n\u001b[32m      4\u001b[39m \u001b[38;5;28;01mimport\u001b[39;00m\u001b[38;5;250m \u001b[39m\u001b[34;01mnumpy\u001b[39;00m\u001b[38;5;250m \u001b[39m\u001b[38;5;28;01mas\u001b[39;00m\u001b[38;5;250m \u001b[39m\u001b[34;01mnp\u001b[39;00m\n\u001b[32m      5\u001b[39m \u001b[38;5;28;01mimport\u001b[39;00m\u001b[38;5;250m \u001b[39m\u001b[34;01mmatplotlib\u001b[39;00m\u001b[34;01m.\u001b[39;00m\u001b[34;01mpyplot\u001b[39;00m\u001b[38;5;250m \u001b[39m\u001b[38;5;28;01mas\u001b[39;00m\u001b[38;5;250m \u001b[39m\u001b[34;01mplt\u001b[39;00m\n",
      "\u001b[31mModuleNotFoundError\u001b[39m: No module named 'pandas'"
     ]
    }
   ],
   "source": [
    "import warnings\n",
    "warnings.filterwarnings('ignore')\n",
    "from pandas import read_csv\n",
    "import numpy as np\n",
    "import matplotlib.pyplot as plt\n",
    "from pandas.plotting import scatter_matrix\n",
    "filename='BeansDataSet.csv'\n",
    "try:\n",
    "    data=read_csv(filename)\n",
    "    print('Dataset chargee ')\n",
    "except:\n",
    "    print('Échec du chargement ')"
   ]
  },
  {
   "cell_type": "markdown",
   "id": "1ea77552",
   "metadata": {},
   "source": [
    "## Charger le fichier CSV"
   ]
  },
  {
   "cell_type": "code",
   "execution_count": null,
   "id": "1343401e",
   "metadata": {},
   "outputs": [],
   "source": [
    "\n",
    "\n",
    "print(f'Head\\n--------\\n{data.head()}')\n",
    "print(f'Tail\\n--------\\n{data.tail()}')\n",
    "print(f'Shape\\n--------\\n{data.shape}')\n",
    "print(f'Dasaset info\\n--------')\n",
    "print(f'{data.info()}')\n"
   ]
  },
  {
   "cell_type": "code",
   "execution_count": null,
   "id": "e2b973c1",
   "metadata": {},
   "outputs": [],
   "source": [
    "from pandas import set_option\n",
    "set_option('avec.display',100)\n",
    "set_option('precision.display',3)\n",
    "print(f'descriptions des statistics\\n------------------------\\n{data.describe()}')\n",
    "print(f'description des statistics (include all)\\n------------------------\\n{data.describe(include=\"all\")}')"
   ]
  },
  {
   "cell_type": "markdown",
   "id": "56b15b15",
   "metadata": {},
   "source": [
    "## Analyse de données"
   ]
  },
  {
   "cell_type": "code",
   "execution_count": null,
   "id": "8bc06e41",
   "metadata": {},
   "outputs": [],
   "source": [
    "filename='BeansDataSet.csv'\n",
    "try:\n",
    "    data=read_csv(filename, index_col=0)\n",
    "    print('Dataset chargee')\n",
    "except:\n",
    "    print('Echec du chargement')"
   ]
  },
  {
   "cell_type": "code",
   "execution_count": null,
   "id": "c87562a3-9288-420c-b39f-3a9490ef9a3b",
   "metadata": {},
   "outputs": [],
   "source": [
    "print (f'tete\\n-------\\n{data.head()}')\n"
   ]
  },
  {
   "cell_type": "code",
   "execution_count": null,
   "id": "4009d8e9-bf9e-41dd-947b-faa9607646e4",
   "metadata": {},
   "outputs": [],
   "source": [
    "from IPython.display import display, HTML\n",
    "html_content = \"<h1>Ventes par chaque region </h1>\"\n",
    "display(HTML(html_content))\n"
   ]
  },
  {
   "cell_type": "code",
   "execution_count": null,
   "id": "a2af22f0-d57e-44b3-b09a-efd74bb14bd0",
   "metadata": {},
   "outputs": [],
   "source": [
    "raw_data=data.copy()\n",
    "region= raw_data['Region'].value_counts()\n",
    "print(f'Transaction pour region\\n---------------------------------\\n{region}')\n",
    "# Method 2\n",
    "raw_data=data.copy()\n",
    "region= raw_data.groupby('chaque region').size()\n",
    "print(f'\\nTransaction fait pour\\n---------------------------------\\n{region}')\n"
   ]
  },
  {
   "cell_type": "code",
   "execution_count": null,
   "id": "1d531bee-289b-4af9-967b-73689c1c6c16",
   "metadata": {},
   "outputs": [],
   "source": [
    "df1= raw_data.groupby('Region').mean()\n",
    "print(f'Records par region avec le mean \\n---------------------------------------------\\n{df1}')\n",
    "\n",
    "\n",
    "df2= raw_data.groupby('Region').sum()\n",
    "df2['Total']=df2.sum(axis=1)\n",
    "print(f'\\nRecords par region avec e sum\\n---------------------------------------------\\n{df2}')"
   ]
  },
  {
   "cell_type": "code",
   "execution_count": null,
   "id": "f1681b0a-d3eb-4cfa-bc4f-e8c37e25e2b3",
   "metadata": {},
   "outputs": [],
   "source": [
    "from IPython.display import display, HTML\n",
    "html_content = \"<h1>Visualisation des donnes</h1>\"\n",
    "display(HTML(html_content))\n"
   ]
  },
  {
   "cell_type": "code",
   "execution_count": null,
   "id": "8e3054bb-b6e8-497b-bce4-ccc752ba8fe3",
   "metadata": {},
   "outputs": [],
   "source": [
    "print(f'ventes fait pour chaque regions\\n--------------------------')\n",
    "df1=df1.reset_index().plot(x='Region',y=['Robusta','Arabica','Espresso','Lungo','Latte','Cappuccino'],kind='bar',figsize=(9,6))\n",
    "plt.title(\"ventes faite pour chaque region  \")\n",
    "plt.xlabel(\"Region\")\n",
    "plt.ylabel(\"Mean sales\")\n",
    "plt.show()\n"
   ]
  },
  {
   "cell_type": "code",
   "execution_count": null,
   "id": "47e816fa-8f26-45f6-b618-ae2627e74ea0",
   "metadata": {},
   "outputs": [],
   "source": [
    "print(f'Mean sales per region\\n--------------------------')\n",
    "df2=df2.drop('Total', axis=1)\n",
    "df2.reset_index().plot(x='Region',y=['Robusta','Arabica','Espresso','Lungo','Latte','Cappuccino'],kind='bar',figsize=(9,6))\n",
    "plt.title(\"Sum sales per Region\")\n",
    "plt.xlabel(\"Region\")\n",
    "plt.ylabel(\"Sum sales\")\n",
    "plt.show()"
   ]
  },
  {
   "cell_type": "code",
   "execution_count": null,
   "id": "56ee1eb4-f05f-4ab6-a855-00a703d6083d",
   "metadata": {},
   "outputs": [],
   "source": [
    "from IPython.display import display, HTML\n",
    "html_content = \"<h1>Region du sud</h1>\"\n",
    "display(HTML(html_content))"
   ]
  },
  {
   "cell_type": "code",
   "execution_count": null,
   "id": "8b147f09-7773-4f3c-9098-cd8f150c02f6",
   "metadata": {},
   "outputs": [],
   "source": [
    "df_south=df2.iloc[2].sort_values(ascending=False)\n",
    "print(df_south)\n",
    "df_south.plot.pie(autopct='%1.1f%%',startangle=30, title=\"South region sale par repartition\")\n",
    "plt.show()"
   ]
  },
  {
   "cell_type": "code",
   "execution_count": null,
   "id": "2d9da4e7-7899-44fe-9527-ebe25130974d",
   "metadata": {},
   "outputs": [],
   "source": [
    "from IPython.display import display, HTML\n",
    "html_content = \"<h1>Region du nord</h1>\"\n",
    "display(HTML(html_content))"
   ]
  },
  {
   "cell_type": "code",
   "execution_count": null,
   "id": "cc4ac53f-f3a5-4fb2-90b4-468abccfd4a9",
   "metadata": {},
   "outputs": [],
   "source": [
    "df_south=df2.iloc[1].sort_values(ascending=False)\n",
    "print(df_south)\n",
    "df_south.plot.pie(autopct='%1.1f%%',startangle=30, title=\"region du nord bventes par repartition \")\n",
    "plt.show()"
   ]
  },
  {
   "cell_type": "code",
   "execution_count": null,
   "id": "03dd6dd6-4f3a-4573-9fed-156e0288f889",
   "metadata": {},
   "outputs": [],
   "source": [
    "from IPython.display import display, HTML\n",
    "html_content = \"<h1>Region du centre</h1>\"\n",
    "display(HTML(html_content))"
   ]
  },
  {
   "cell_type": "code",
   "execution_count": null,
   "id": "92709d8c-b31d-4d0c-a850-550d69c01aeb",
   "metadata": {},
   "outputs": [],
   "source": [
    "df_south=df2.iloc[0].sort_values(ascending=False)\n",
    "print(df_south)\n",
    "df_south.plot.pie(autopct='%1.1f%%',startangle=40, title=\"region du centre ventes par repartition\")\n",
    "plt.show()"
   ]
  },
  {
   "cell_type": "code",
   "execution_count": null,
   "id": "8656312e-06c0-494e-9a64-72e99f5cbff5",
   "metadata": {},
   "outputs": [],
   "source": [
    "from IPython.display import display, HTML\n",
    "html_content = \"<h1>Vente par channel</h1>\"\n",
    "display(HTML(html_content))"
   ]
  },
  {
   "cell_type": "code",
   "execution_count": null,
   "id": "fbafb887-8d3e-40d5-92b7-a4da2c83979f",
   "metadata": {},
   "outputs": [],
   "source": [
    "print ('par channel  \\n---------------')\n",
    "df_channel=raw_data.drop('Region', axis=1)\n",
    "df_channel=df_channel.groupby('Channel').agg('mean')\n",
    "df_channel['Total']=df_channel.sum(axis=1)\n",
    "df_channel"
   ]
  },
  {
   "cell_type": "code",
   "execution_count": null,
   "id": "7963a699-0d5f-4038-81fa-b65e1ccc04d0",
   "metadata": {},
   "outputs": [],
   "source": [
    "from IPython.display import display, HTML\n",
    "html_content = \"<h1>Vente Store & Online</h1>\"\n",
    "display(HTML(html_content))"
   ]
  },
  {
   "cell_type": "code",
   "execution_count": null,
   "id": "eff35e14-9b6f-461c-8f35-757beef1b37a",
   "metadata": {},
   "outputs": [],
   "source": [
    "print('ventes par channel \\n--------------------------')\n",
    "if 'Total' in df_channel.columns:\n",
    "    df_channel = df_channel.drop('Total', axis=1)\n",
    "\n",
    "df_channel.reset_index().plot(x='Region', \n",
    "                              y=['Robusta', 'Arabica', 'Espresso', 'Lungo', 'Latte', 'Cappuccino'], \n",
    "                              kind='bar', figsize=(9, 6))\n",
    "plt.title(\" per Channel\")\n",
    "plt.xlabel(\"Region\")\n",
    "plt.ylabel(\"Sum sales\")\n",
    "plt.show()\n"
   ]
  },
  {
   "cell_type": "code",
   "execution_count": null,
   "id": "bd73737a-40ec-4811-9d3f-45c205bf1b6e",
   "metadata": {},
   "outputs": [],
   "source": []
  }
 ],
 "metadata": {
  "kernelspec": {
   "display_name": ".venv",
   "language": "python",
   "name": "python3"
  },
  "language_info": {
   "codemirror_mode": {
    "name": "ipython",
    "version": 3
   },
   "file_extension": ".py",
   "mimetype": "text/x-python",
   "name": "python",
   "nbconvert_exporter": "python",
   "pygments_lexer": "ipython3",
   "version": "3.13.0"
  }
 },
 "nbformat": 4,
 "nbformat_minor": 5
}
